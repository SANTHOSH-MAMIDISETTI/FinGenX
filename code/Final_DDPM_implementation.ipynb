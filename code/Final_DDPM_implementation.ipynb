{
  "cells": [
    {
      "cell_type": "code",
      "execution_count": 5,
      "metadata": {
        "id": "2G_IAlrKuCLB"
      },
      "outputs": [],
      "source": [
        "import numpy as np\n",
        "import pandas as pd\n",
        "import torch\n",
        "import torch.nn as nn\n",
        "import torch.optim as optime\n",
        "import torch.nn.functional as F\n",
        "import matplotlib.pyplot as plt\n",
        "import seaborn as sns\n",
        "from sklearn.preprocessing import MinMaxScaler\n",
        "from tqdm import tqdm\n",
        "from scipy.stats import ks_2samp\n",
        "from scipy.spatial.distance import cdist\n",
        "from sklearn.decomposition import PCA"
      ]
    },
    {
      "cell_type": "code",
      "execution_count": 6,
      "metadata": {
        "colab": {
          "base_uri": "https://localhost:8080/",
          "height": 228
        },
        "id": "AXMKWYsl5wcw",
        "outputId": "8b957e54-119a-46e7-e850-2240fd128868"
      },
      "outputs": [
        {
          "output_type": "stream",
          "name": "stdout",
          "text": [
            "Using device: cuda\n"
          ]
        },
        {
          "output_type": "error",
          "ename": "NameError",
          "evalue": "name 'optim' is not defined",
          "traceback": [
            "\u001b[0;31m---------------------------------------------------------------------------\u001b[0m",
            "\u001b[0;31mNameError\u001b[0m                                 Traceback (most recent call last)",
            "\u001b[0;32m<ipython-input-6-151f0b91fe82>\u001b[0m in \u001b[0;36m<cell line: 0>\u001b[0;34m()\u001b[0m\n\u001b[1;32m     43\u001b[0m \u001b[0minput_dim\u001b[0m \u001b[0;34m=\u001b[0m \u001b[0mdf\u001b[0m\u001b[0;34m.\u001b[0m\u001b[0mshape\u001b[0m\u001b[0;34m[\u001b[0m\u001b[0;36m1\u001b[0m\u001b[0;34m]\u001b[0m\u001b[0;34m\u001b[0m\u001b[0;34m\u001b[0m\u001b[0m\n\u001b[1;32m     44\u001b[0m \u001b[0mmodel\u001b[0m \u001b[0;34m=\u001b[0m \u001b[0mDenoisingModel\u001b[0m\u001b[0;34m(\u001b[0m\u001b[0minput_dim\u001b[0m\u001b[0;34m)\u001b[0m\u001b[0;34m.\u001b[0m\u001b[0mto\u001b[0m\u001b[0;34m(\u001b[0m\u001b[0mdevice\u001b[0m\u001b[0;34m)\u001b[0m\u001b[0;34m\u001b[0m\u001b[0;34m\u001b[0m\u001b[0m\n\u001b[0;32m---> 45\u001b[0;31m \u001b[0moptimizer\u001b[0m \u001b[0;34m=\u001b[0m \u001b[0moptim\u001b[0m\u001b[0;34m.\u001b[0m\u001b[0mAdam\u001b[0m\u001b[0;34m(\u001b[0m\u001b[0mmodel\u001b[0m\u001b[0;34m.\u001b[0m\u001b[0mparameters\u001b[0m\u001b[0;34m(\u001b[0m\u001b[0;34m)\u001b[0m\u001b[0;34m,\u001b[0m \u001b[0mlr\u001b[0m\u001b[0;34m=\u001b[0m\u001b[0mlearning_rate\u001b[0m\u001b[0;34m)\u001b[0m\u001b[0;34m\u001b[0m\u001b[0;34m\u001b[0m\u001b[0m\n\u001b[0m\u001b[1;32m     46\u001b[0m \u001b[0mcriterion\u001b[0m \u001b[0;34m=\u001b[0m \u001b[0mnn\u001b[0m\u001b[0;34m.\u001b[0m\u001b[0mMSELoss\u001b[0m\u001b[0;34m(\u001b[0m\u001b[0;34m)\u001b[0m\u001b[0;34m\u001b[0m\u001b[0;34m\u001b[0m\u001b[0m\n\u001b[1;32m     47\u001b[0m \u001b[0;34m\u001b[0m\u001b[0m\n",
            "\u001b[0;31mNameError\u001b[0m: name 'optim' is not defined"
          ]
        }
      ],
      "source": [
        "# using gpu\n",
        "device = torch.device(\"cuda\" if torch.cuda.is_available() else \"cpu\")\n",
        "print(f\"Using device: {device}\")\n",
        "\n",
        "file_path = \"/content/UCI_Credit_Card.csv\"\n",
        "df = pd.read_csv(file_path).drop(columns=[\"ID\"])\n",
        "\n",
        "# 🔄 Normalize Data\n",
        "scaler = MinMaxScaler()\n",
        "df_normalized = scaler.fit_transform(df)\n",
        "\n",
        "\n",
        "# 📊 Convert to PyTorch tensor\n",
        "data_tensor = torch.tensor(df_normalized, dtype=torch.float32).to(device)\n",
        "\n",
        "# ✅ Diffusion Model Hyperparameters\n",
        "num_timesteps = 450  # Reduced for faster training\n",
        "batch_size = 512\n",
        "num_epochs = 5000\n",
        "learning_rate = 0.01\n",
        "noise_std = 0.2\n",
        "\n",
        "# ✅ Forward Diffusion (Adding Noise)\n",
        "def forward_diffusion(x, noise_std, timesteps):\n",
        "    noise_levels = torch.linspace(0, 1, timesteps).view(-1, 1, 1).to(device)\n",
        "    noise = torch.randn_like(x) * noise_levels * noise_std\n",
        "    return x + noise, noise  # ✅ Return actual noise for loss calculation\n",
        "\n",
        "# ✅ Reverse Process (Denoising Network)\n",
        "class DenoisingModel(nn.Module):\n",
        "    def __init__(self, input_dim):\n",
        "        super(DenoisingModel, self).__init__()\n",
        "        self.fc1 = nn.Linear(input_dim, 256)\n",
        "        self.fc2 = nn.Linear(256, 128)\n",
        "        self.fc3 = nn.Linear(128, input_dim)\n",
        "\n",
        "    def forward(self, x):\n",
        "        x = F.relu(self.fc1(x))\n",
        "        x = F.relu(self.fc2(x))\n",
        "        return self.fc3(x)\n",
        "\n",
        "# 🎯 Initialize model, optimizer, and loss function\n",
        "input_dim = df.shape[1]\n",
        "model = DenoisingModel(input_dim).to(device)\n",
        "optimizer = optim.Adam(model.parameters(), lr=learning_rate)\n",
        "criterion = nn.MSELoss()\n",
        "\n",
        "# 🚀 Training Loop with Loss Optimization\n",
        "data_loader = torch.utils.data.DataLoader(data_tensor, batch_size=batch_size, shuffle=True)\n",
        "\n",
        "for epoch in tqdm(range(num_epochs), desc=\"Training Progress\"):\n",
        "    total_loss = 0\n",
        "\n",
        "    for batch in data_loader:\n",
        "        batch = batch.to(device)\n",
        "\n",
        "        # ✅ Add noise (Forward Diffusion)\n",
        "        noisy_batch, actual_noise = forward_diffusion(batch, noise_std, num_timesteps)\n",
        "\n",
        "        # ✅ Predict Noise\n",
        "        predicted_noise = model(noisy_batch)\n",
        "\n",
        "        # ✅ Compute Loss (MSE)\n",
        "        loss = criterion(predicted_noise, actual_noise)\n",
        "\n",
        "        # ✅ Backpropagation and Weight Update\n",
        "        optimizer.zero_grad()\n",
        "        loss.backward()\n",
        "        optimizer.step()\n",
        "\n",
        "        total_loss += loss.item()\n",
        "\n",
        "    if epoch % 50 == 0:\n",
        "        print(f\"Epoch {epoch}, Loss: {total_loss / len(data_loader):.6f}\")\n",
        "\n",
        "print(\"✅ Training Complete!\")\n",
        "\n",
        "# 🔄 Generate Synthetic Financial Data\n",
        "with torch.no_grad():\n",
        "    noise_input = torch.randn((df.shape[0], input_dim)).to(device)  # Start with pure noise\n",
        "    synthetic_data = model(noise_input)  # Apply denoising process\n",
        "\n",
        "# 🔁 Convert back to original scale (Using correct scaler)\n",
        "synthetic_data_np = synthetic_data.cpu().numpy()\n",
        "synthetic_data_np += np.random.normal(scale=0.01, size=synthetic_data_np.shape)\n",
        "synthetic_data_real_scale = scaler.inverse_transform(synthetic_data_np)\n",
        "\n",
        "# 📜 Convert to DataFrame\n",
        "synthetic_df = pd.DataFrame(synthetic_data_real_scale, columns=df.columns)\n",
        "\n",
        "# 💾 Save Synthetic Data\n",
        "synthetic_df.to_csv(\"content/Synthetic_Financial_Data.csv\", index=False)\n",
        "print(\"✅ Synthetic Financial Data Generated & Saved!\")\n",
        "\n",
        "# ✅ 1️⃣ Fidelity (Column-Wise & Row-Wise Similarity)\n",
        "def calculate_fidelity(real_df, synthetic_df):\n",
        "    fidelity_scores = {}\n",
        "\n",
        "    # Column Fidelity: KS Test for numerical, TVD for categorical\n",
        "    for col in real_df.columns:\n",
        "        if real_df[col].dtype in ['float64', 'int64']:  # Numerical data\n",
        "            ks_stat, _ = ks_2samp(real_df[col], synthetic_df[col])\n",
        "            fidelity_scores[col] = 1 - ks_stat  # Higher = more similar\n",
        "        else:  # Categorical data\n",
        "            real_counts = real_df[col].value_counts(normalize=True)\n",
        "            synthetic_counts = synthetic_df[col].value_counts(normalize=True)\n",
        "            tvd = np.sum(np.abs(real_counts - synthetic_counts)) / 2\n",
        "            fidelity_scores[col] = 1 - tvd  # Higher = more similar\n",
        "\n",
        "    # Row Fidelity: Correlation Difference\n",
        "    real_corr = real_df.corr()\n",
        "    synthetic_corr = synthetic_df.corr()\n",
        "    row_fidelity = 1 - np.abs(real_corr - synthetic_corr).mean().mean() / 2\n",
        "\n",
        "    return np.mean(list(fidelity_scores.values())), row_fidelity\n",
        "\n",
        "# Compute Fidelity\n",
        "fidelity_col, fidelity_row = calculate_fidelity(df, synthetic_df)\n",
        "print(f\"\\n📊 Fidelity Scores:\")\n",
        "print(f\"📌 Column Fidelity: {fidelity_col:.4f}\")\n",
        "print(f\"📌 Row Fidelity: {fidelity_row:.4f}\")\n",
        "\n",
        "# ✅ 2️⃣ Privacy (Distance to Closest Records - DCR)\n",
        "def compute_privacy(real_df, synthetic_df):\n",
        "    real_array = scaler.transform(df.to_numpy())\n",
        "    synthetic_array = scaler.transform(synthetic_df.to_numpy())\n",
        "\n",
        "    dcr_values = np.min(cdist(synthetic_array, real_array, metric='euclidean'), axis=1)\n",
        "    return np.median(dcr_values)\n",
        "\n",
        "privacy_score = compute_privacy(df, synthetic_df)\n",
        "print(f\"\\n🔒 Privacy Score (Higher is Better): {privacy_score:.4f}\")\n",
        "\n",
        "# ✅ 3️⃣ Synthesis (Novelty of Generated Data)\n",
        "def compute_synthesis(real_df, synthetic_df):\n",
        "    unique_synthetic = synthetic_df.drop_duplicates().shape[0]\n",
        "    total_synthetic = synthetic_df.shape[0]\n",
        "    return unique_synthetic / total_synthetic\n",
        "\n",
        "synthesis_score = compute_synthesis(df, synthetic_df)\n",
        "print(f\"\\n🎭 Synthesis Score (Higher is Better): {synthesis_score:.4f}\")\n",
        "\n",
        "# 📊 PCA Projection to Check Data Similarity\n",
        "def plot_pca(real_data, synthetic_data):\n",
        "    reducer = PCA(n_components=2)\n",
        "    real_reduced = reducer.fit_transform(real_data)\n",
        "    synthetic_reduced = reducer.transform(synthetic_data)\n",
        "\n",
        "    plt.figure(figsize=(8, 6))\n",
        "    plt.scatter(real_reduced[:, 0], real_reduced[:, 1], label=\"Real\", alpha=0.6, s=10)\n",
        "    plt.scatter(synthetic_reduced[:, 0], synthetic_reduced[:, 1], label=\"Synthetic\", alpha=0.6, s=10)\n",
        "    plt.legend()\n",
        "    plt.title(\"PCA Projection: Real vs Synthetic Data\")\n",
        "    plt.show()\n",
        "\n",
        "# Run PCA visualization\n",
        "plot_pca(df, synthetic_df)\n"
      ]
    },
    {
      "cell_type": "markdown",
      "metadata": {
        "id": "ZSyOF7iy0peb"
      },
      "source": [
        "# **DDPM MODEL**"
      ]
    },
    {
      "cell_type": "code",
      "execution_count": 7,
      "metadata": {
        "colab": {
          "base_uri": "https://localhost:8080/"
        },
        "id": "rIBUP9WpPB4u",
        "outputId": "de4ecf29-e1a8-4f9f-bfb2-1e10b106583d"
      },
      "outputs": [
        {
          "output_type": "stream",
          "name": "stdout",
          "text": [
            "Using device: cuda\n"
          ]
        }
      ],
      "source": [
        "import numpy as np\n",
        "import pandas as pd\n",
        "import torch\n",
        "import torch.nn as nn\n",
        "import torch.optim as optim\n",
        "import torch.nn.functional as F\n",
        "import matplotlib.pyplot as plt\n",
        "import seaborn as sns\n",
        "from sklearn.preprocessing import MinMaxScaler\n",
        "from tqdm import tqdm\n",
        "from scipy.stats import ks_2samp\n",
        "from scipy.spatial.distance import cdist\n",
        "from sklearn.decomposition import PCA\n",
        "import warnings\n",
        "from sklearn.metrics import mean_squared_error\n",
        "\n",
        "\n",
        "# ✅ Ignore warnings from sklearn\n",
        "warnings.filterwarnings(\"ignore\", category=UserWarning)\n",
        "\n",
        "# ✅ Use GPU if available\n",
        "device = torch.device(\"cuda\" if torch.cuda.is_available() else \"cpu\")\n",
        "print(f\"Using device: {device}\")\n"
      ]
    },
    {
      "cell_type": "code",
      "execution_count": 8,
      "metadata": {
        "id": "HBJRROFvPEjv"
      },
      "outputs": [],
      "source": [
        "# Load and normalize data\n",
        "file_path = \"/content/UCI_Credit_Card.csv\"\n",
        "df = pd.read_csv(file_path).drop(columns=[\"ID\"])\n",
        "\n",
        "# ✅ Define input_dim globally\n",
        "input_dim = df.shape[1]\n",
        "\n",
        "# ✅ Normalize data\n",
        "scaler = MinMaxScaler()\n",
        "df_normalized = scaler.fit_transform(df)\n",
        "data_tensor = torch.tensor(df_normalized, dtype=torch.float32).to(device)\n",
        "\n",
        "\n",
        "class SelfAttention(nn.Module):\n",
        "    def __init__(self, embed_dim, num_heads):\n",
        "        super(SelfAttention, self).__init__()\n",
        "        self.attention = nn.MultiheadAttention(embed_dim, num_heads)\n",
        "\n",
        "    def forward(self, x):\n",
        "        x = x.unsqueeze(0)  # Add sequence length dimension\n",
        "        attn_output, _ = self.attention(x, x, x)\n",
        "        x = attn_output.squeeze(0)  # Remove sequence length dimension\n",
        "        return x\n",
        "\n",
        "\n",
        "class DenoisingModel(nn.Module):\n",
        "    def __init__(self, input_dim):\n",
        "        super(DenoisingModel, self).__init__()\n",
        "        self.fc1 = nn.Linear(input_dim, 256)\n",
        "        self.fc2 = nn.Linear(256, 128)\n",
        "\n",
        "        # ✅ Add Self-Attention Layer\n",
        "        self.attention = SelfAttention(embed_dim=128, num_heads=4)\n",
        "\n",
        "        self.fc_mean = nn.Linear(128, input_dim)\n",
        "        self.fc_log_var = nn.Linear(128, input_dim)\n",
        "\n",
        "    def forward(self, x):\n",
        "        x = F.relu(self.fc1(x))\n",
        "        x = F.relu(self.fc2(x))\n",
        "\n",
        "        # ✅ Apply Self-Attention\n",
        "        x = self.attention(x)\n",
        "\n",
        "        mean = self.fc_mean(x)\n",
        "        log_var = torch.clamp(self.fc_log_var(x), min=-10, max=5)  # ✅ Prevent overflow\n",
        "        return mean, log_var\n"
      ]
    },
    {
      "cell_type": "code",
      "execution_count": 9,
      "metadata": {
        "id": "08o5DEOfPM6M"
      },
      "outputs": [],
      "source": [
        "def forward_diffusion(x, t, beta):\n",
        "    noise = torch.randn_like(x)\n",
        "    mean = (1 - beta[t].view(-1, 1)).sqrt() * x\n",
        "    variance = beta[t].view(-1, 1).sqrt() * noise\n",
        "    return mean + variance, noise\n",
        "\n",
        "\n",
        "def reverse_diffusion(model, noisy_data, timesteps, beta, real_data):\n",
        "    min_val = real_data.min().min()\n",
        "    max_val = real_data.max().max()\n",
        "\n",
        "    for t in reversed(range(timesteps)):\n",
        "        mean, log_var = model(noisy_data)\n",
        "\n",
        "        # ✅ Narrow variance range for financial data\n",
        "        variance = torch.exp(torch.clamp(log_var, min=-5, max=2))\n",
        "\n",
        "        # ✅ Scale down noise injection\n",
        "        noise = torch.randn_like(mean) * 0.1 if t > 0 else 0\n",
        "\n",
        "        # ✅ Update data using predicted mean and variance\n",
        "        noisy_data = mean + variance.sqrt() * noise\n",
        "\n",
        "        # ✅ Clamp to real data range\n",
        "        noisy_data = torch.clamp(noisy_data, min=min_val, max=max_val)\n",
        "\n",
        "    return noisy_data\n",
        "\n",
        "def compute_loss(model, noisy_data, clean_data):\n",
        "    mean, log_var = model(noisy_data)\n",
        "\n",
        "    variance = torch.exp(torch.clamp(log_var, min=-10, max=5))\n",
        "\n",
        "    true_distribution = torch.distributions.Normal(clean_data, torch.ones_like(clean_data))\n",
        "    predicted_distribution = torch.distributions.Normal(mean, variance)\n",
        "\n",
        "    kl_loss = torch.distributions.kl.kl_divergence(predicted_distribution, true_distribution).mean()\n",
        "    return kl_loss\n",
        "\n"
      ]
    },
    {
      "cell_type": "code",
      "execution_count": 10,
      "metadata": {
        "colab": {
          "base_uri": "https://localhost:8080/"
        },
        "id": "8oxJmcJaPT5Q",
        "outputId": "1c52c583-c31d-41fa-8fda-b084d71f7445"
      },
      "outputs": [
        {
          "output_type": "stream",
          "name": "stderr",
          "text": [
            "  0%|          | 1/1500 [00:01<43:29,  1.74s/it]"
          ]
        },
        {
          "output_type": "stream",
          "name": "stdout",
          "text": [
            "Epoch 0: Loss = 0.006517\n"
          ]
        },
        {
          "output_type": "stream",
          "name": "stderr",
          "text": [
            "  3%|▎         | 51/1500 [00:29<13:08,  1.84it/s]"
          ]
        },
        {
          "output_type": "stream",
          "name": "stdout",
          "text": [
            "Epoch 50: Loss = 0.001798\n"
          ]
        },
        {
          "output_type": "stream",
          "name": "stderr",
          "text": [
            "  7%|▋         | 101/1500 [00:58<12:36,  1.85it/s]"
          ]
        },
        {
          "output_type": "stream",
          "name": "stdout",
          "text": [
            "Epoch 100: Loss = 0.001777\n"
          ]
        },
        {
          "output_type": "stream",
          "name": "stderr",
          "text": [
            "  7%|▋         | 111/1500 [01:05<13:34,  1.71it/s]"
          ]
        },
        {
          "output_type": "stream",
          "name": "stdout",
          "text": [
            "Early stopping at epoch 111\n"
          ]
        },
        {
          "output_type": "stream",
          "name": "stderr",
          "text": [
            "\n"
          ]
        }
      ],
      "source": [
        "timesteps = 250\n",
        "beta = torch.linspace(0.0005, 0.05, timesteps).to(device)\n",
        "\n",
        "model = DenoisingModel(input_dim).to(device)\n",
        "optimizer = optim.Adam(model.parameters(), lr=0.001)\n",
        "\n",
        "data_loader = torch.utils.data.DataLoader(data_tensor, batch_size=256, shuffle=True)\n",
        "\n",
        "best_loss = float('inf')\n",
        "patience = 40\n",
        "counter = 0\n",
        "\n",
        "for epoch in tqdm(range(1500)):\n",
        "    total_loss = 0\n",
        "    for batch in data_loader:\n",
        "        t = torch.randint(0, timesteps, (batch.size(0),)).to(device)\n",
        "        noisy_data, noise = forward_diffusion(batch, t, beta)\n",
        "        loss = compute_loss(model, noisy_data, batch)\n",
        "\n",
        "        optimizer.zero_grad()\n",
        "        loss.backward()\n",
        "        optimizer.step()\n",
        "\n",
        "        total_loss += loss.item()\n",
        "\n",
        "    avg_loss = total_loss / len(data_loader)\n",
        "\n",
        "    if avg_loss < best_loss:\n",
        "        best_loss = avg_loss\n",
        "        counter = 0\n",
        "    else:\n",
        "        counter += 1\n",
        "\n",
        "    if counter >= patience:\n",
        "        print(f\"Early stopping at epoch {epoch}\")\n",
        "        break\n",
        "\n",
        "    if epoch % 50 == 0:\n",
        "        print(f'Epoch {epoch}: Loss = {avg_loss:.6f}')\n"
      ]
    },
    {
      "cell_type": "code",
      "execution_count": 11,
      "metadata": {
        "id": "n-LOPVotRwpE"
      },
      "outputs": [],
      "source": [
        "with torch.no_grad():\n",
        "    noise = torch.randn((df.shape[0], input_dim)).to(device)\n",
        "    synthetic_data = reverse_diffusion(model, noise, timesteps, beta, df)  # ✅ Use df instead of real_data\n",
        "    synthetic_data += torch.randn_like(synthetic_data) * 0.05\n",
        "\n",
        "    synthetic_data_np = synthetic_data.cpu().numpy()\n",
        "    synthetic_data_real_scale = scaler.inverse_transform(synthetic_data_np)\n",
        "    synthetic_df = pd.DataFrame(synthetic_data_real_scale, columns=df.columns)\n",
        "\n",
        "# ✅ Handle NaN values\n",
        "synthetic_df.fillna(synthetic_df.mean(), inplace=True)\n",
        "\n",
        "# ✅ Save to CSV\n",
        "synthetic_df.to_csv(\"/content/Synthetic_Financial_Data.csv\", index=False)\n"
      ]
    },
    {
      "cell_type": "code",
      "execution_count": 12,
      "metadata": {
        "id": "IO7AanB1V0ag"
      },
      "outputs": [],
      "source": [
        "from scipy.stats import ks_2samp\n",
        "\n",
        "def cal_fidelity(real_df, synthetic_df):\n",
        "    fidelity_scores = {}\n",
        "\n",
        "    # ✅ Column Fidelity: KS test for numerical features\n",
        "    for col in real_df.columns:\n",
        "        if real_df[col].dtype in ['float64', 'int64']:  # Numerical data\n",
        "            ks_stat, _ = ks_2samp(real_df[col], synthetic_df[col])\n",
        "            fidelity_scores[col] = 1 - ks_stat  # Higher = more similar\n",
        "        else:\n",
        "            real_counts = real_df[col].value_counts(normalize=True)\n",
        "            synthetic_counts = synthetic_df[col].value_counts(normalize=True)\n",
        "            tvd = np.sum(np.abs(real_counts - synthetic_counts)) / 2\n",
        "            fidelity_scores[col] = 1 - tvd  # Higher = more similar\n",
        "\n",
        "    # ✅ Row Fidelity: Correlation matrix difference\n",
        "    real_corr = real_df.corr()\n",
        "    synthetic_corr = synthetic_df.corr()\n",
        "    row_fidelity = 1 - np.abs(real_corr - synthetic_corr).mean().mean()\n",
        "\n",
        "    return np.mean(list(fidelity_scores.values())), row_fidelity\n",
        "\n",
        "from scipy.spatial.distance import cdist\n",
        "\n",
        "def cal_privacy(real_df, synthetic_df):\n",
        "    # ✅ Scale real and synthetic data using the same scaler\n",
        "    real_array = scaler.transform(real_df)\n",
        "    synthetic_array = scaler.transform(synthetic_df)\n",
        "\n",
        "    # ✅ Compute distance to closest record (DCR)\n",
        "    dcr_values = np.min(cdist(synthetic_array, real_array, metric='euclidean'), axis=1)\n",
        "    return np.median(dcr_values)\n",
        "\n",
        "def cal_synthesis(real_df, synthetic_df):\n",
        "    unique_synthetic = synthetic_df.drop_duplicates().shape[0]\n",
        "    total_synthetic = synthetic_df.shape[0]\n",
        "    return unique_synthetic / total_synthetic\n",
        "\n",
        "\n",
        "\n",
        "\n"
      ]
    },
    {
      "cell_type": "code",
      "execution_count": 13,
      "metadata": {
        "colab": {
          "base_uri": "https://localhost:8080/"
        },
        "id": "47_fnBvxR69j",
        "outputId": "a5110686-b56c-4abc-d84a-7ae02a1b25d7"
      },
      "outputs": [
        {
          "output_type": "stream",
          "name": "stdout",
          "text": [
            "Fidelity: 0.6110, 0.5173\n",
            "Privacy: 0.2401\n",
            "Synthesis: 1.0000\n"
          ]
        }
      ],
      "source": [
        "fidelity_col, fidelity_row = cal_fidelity(df, synthetic_df)\n",
        "privacy_score = cal_privacy(df, synthetic_df)\n",
        "synthesis_score = cal_synthesis(df, synthetic_df)\n",
        "\n",
        "print(f\"Fidelity: {fidelity_col:.4f}, {fidelity_row:.4f}\")\n",
        "print(f\"Privacy: {privacy_score:.4f}\")\n",
        "print(f\"Synthesis: {synthesis_score:.4f}\")\n"
      ]
    },
    {
      "cell_type": "code",
      "source": [
        "from statsmodels.tsa.stattools import acf\n",
        "import matplotlib.pyplot as plt\n",
        "\n",
        "# Calculate ACF\n",
        "real_returns = df['LIMIT_BAL'].pct_change().dropna()\n",
        "synthetic_returns = synthetic_df['LIMIT_BAL'].pct_change().dropna()\n",
        "\n",
        "acf_real = acf(real_returns, nlags=50)\n",
        "acf_synthetic = acf(synthetic_returns, nlags=50)\n",
        "\n",
        "# Plot ACF\n",
        "plt.figure(figsize=(8, 4))\n",
        "plt.plot(acf_real, label='Real Data')\n",
        "plt.plot(acf_synthetic, label='Synthetic Data')\n",
        "plt.title('Autocorrelation Function (ACF)')\n",
        "plt.legend()\n",
        "plt.show()\n"
      ],
      "metadata": {
        "colab": {
          "base_uri": "https://localhost:8080/",
          "height": 391
        },
        "id": "CoZ7SMv9rszD",
        "outputId": "b4cb061e-b7f0-46b9-8776-38bdbf712c63"
      },
      "execution_count": 14,
      "outputs": [
        {
          "output_type": "display_data",
          "data": {
            "text/plain": [
              "<Figure size 800x400 with 1 Axes>"
            ],
            "image/png": "[encoded data removed]"
          },
          "metadata": {}
        }
      ]
    },
    {
      "cell_type": "code",
      "source": [
        "# 📊 Compare FinDiff vs Baseline Models vs Your Diffusion Model\n",
        "\n",
        "import matplotlib.pyplot as plt\n",
        "import numpy as np\n",
        "\n",
        "# ✅ Define metric labels and model scores\n",
        "metric_labels = ['Fidelity Column', 'Fidelity Row', 'Utility', 'Privacy', 'Synthesis']\n",
        "\n",
        "ddpm = [0.4374, 0.8827, np.nan, 4.7334, 1.0]\n",
        "findiff = [0.931, 0.939, 0.794, 1.474, np.nan]\n",
        "tvae = [0.920, 0.923, 0.790, 1.573, np.nan]\n",
        "ctgan = [0.872, 0.871, 0.703, 1.880, np.nan]\n",
        "tabddpm = [0.401, 0.320, 0.709, 2.734, np.nan]\n",
        "\n",
        "# ✅ Convert to NumPy arrays for compatibility\n",
        "models = [ddpm, findiff, tvae, ctgan, tabddpm]\n",
        "model_names = ['Proposed Model', 'FinDiff', 'TVAE', 'CTGAN', 'TabDDPM']\n",
        "colors = ['#6a0dad', '#007acc', '#33cc33', '#ff9933', '#cc0000']\n",
        "\n",
        "x = np.arange(len(metric_labels))  # X-axis positions\n",
        "bar_width = 0.15\n",
        "\n",
        "# 🎯 Plot grouped bar chart\n",
        "plt.figure(figsize=(12, 6))\n",
        "\n",
        "for i, (scores, name, color) in enumerate(zip(models, model_names, colors)):\n",
        "    plt.bar(x + (i - 2) * bar_width, scores, bar_width, label=name, color=color)\n",
        "\n",
        "# ✅ Styling and Labels\n",
        "plt.xticks(x, metric_labels)\n",
        "plt.ylabel('Score')\n",
        "plt.title('📊 Proposed Model vs FinDiff & Baselines')\n",
        "plt.grid(True, linestyle='--', alpha=0.4)\n",
        "plt.legend()\n",
        "plt.tight_layout()\n",
        "plt.show()\n"
      ],
      "metadata": {
        "colab": {
          "base_uri": "https://localhost:8080/",
          "height": 442
        },
        "id": "CF-yUF5IwgR9",
        "outputId": "d575a40c-eb1c-4468-d84e-5adda0380062"
      },
      "execution_count": 15,
      "outputs": [
        {
          "output_type": "display_data",
          "data": {
            "text/plain": [
              "<Figure size 1200x600 with 1 Axes>"
            ],
            "image/png": "[encoded data removed]"
          },
          "metadata": {}
        }
      ]
    }
  ],
  "metadata": {
    "accelerator": "GPU",
    "colab": {
      "gpuType": "T4",
      "provenance": []
    },
    "kernelspec": {
      "display_name": "Python 3",
      "name": "python3"
    },
    "language_info": {
      "codemirror_mode": {
        "name": "ipython",
        "version": 3
      },
      "file_extension": ".py",
      "mimetype": "text/x-python",
      "name": "python",
      "nbconvert_exporter": "python",
      "pygments_lexer": "ipython3",
      "version": "3.10.12"
    }
  },
  "nbformat": 4,
  "nbformat_minor": 0
}